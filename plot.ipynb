{
 "cells": [
  {
   "cell_type": "code",
   "execution_count": null,
   "id": "theoretical-calcium",
   "metadata": {},
   "outputs": [],
   "source": [
    "import matplotlib.pyplot as plt\n",
    "import pandas"
   ]
  },
  {
   "cell_type": "code",
   "execution_count": null,
   "id": "marine-array",
   "metadata": {},
   "outputs": [],
   "source": [
    "df = pandas.read_csv(\"results/release_timing.csv\")\n",
    "df[\"release_date\"] = pandas.to_datetime(df[\"release_date\"])"
   ]
  },
  {
   "cell_type": "code",
   "execution_count": null,
   "id": "informal-seven",
   "metadata": {},
   "outputs": [],
   "source": [
    "from matplotlib.dates import DateFormatter\n",
    "dfmt = DateFormatter(\"%Y-%m-%d\")"
   ]
  },
  {
   "cell_type": "code",
   "execution_count": null,
   "id": "29ac6d52",
   "metadata": {},
   "outputs": [],
   "source": [
    "df[[\"label\", \"release_date\"]]"
   ]
  },
  {
   "cell_type": "code",
   "execution_count": null,
   "id": "previous-columbia",
   "metadata": {
    "scrolled": false
   },
   "outputs": [],
   "source": [
    "plt.figure(figsize=(10,5))\n",
    "ax = plt.axes()\n",
    "ax.plot(df[df[\"workflow\"]==\"29234p21\"][\"release_date\"], df[df[\"workflow\"]==\"29234p21\"][\"reco_time\"], marker=\"s\", label=\"29234.21\", lw=0)\n",
    "ax.plot(df[df[\"workflow\"]==\"20634p21\"][\"release_date\"], df[df[\"workflow\"]==\"20634p21\"][\"reco_time\"], marker=\"^\", label=\"20634.21\", lw=0)\n",
    "ax.plot(df[df[\"workflow\"]==\"23434p21\"][\"release_date\"], df[df[\"workflow\"]==\"23434p21\"][\"reco_time\"], marker=\"v\", label=\"23434.21\", lw=0)\n",
    "ax.plot(df[df[\"workflow\"]==\"34834p21\"][\"release_date\"], df[df[\"workflow\"]==\"34834p21\"][\"reco_time\"], marker=\"o\", label=\"34834.21\", lw=0)\n",
    "ax.xaxis.set_major_formatter(dfmt)\n",
    "\n",
    "for release in [\"11_0_0\", \"11_1_0\", \"11_2_0\", \"11_2_1\", \"11_3_0\", \"12_0_0\"]:\n",
    "    ax.axvline(df[df[\"label\"]==release][\"release_date\"], color=\"black\", ls=\"--\", lw=1)\n",
    "    ax.text(df[df[\"label\"]==release][\"release_date\"], 10, release, ha=\"right\", rotation=90)\n",
    "plt.xticks(rotation=45);\n",
    "plt.legend(frameon=False, title=\"Phase2 workflow\")\n",
    "plt.ylabel(\"Average reco time\\n(Total - PoolOutput CPU s/ev)\")\n",
    "plt.xlabel(\"Release date\")\n",
    "plt.title(\"CMSSW release profiling, reco step\\nIntel(R) Xeon(R) Silver 4216 CPU @ 2.10GHz, single thread\")\n",
    "plt.ylim(0,150)\n",
    "plt.savefig(\"results/release_timing.pdf\", bbox_inches=\"tight\")\n",
    "plt.savefig(\"results/release_timing.png\", bbox_inches=\"tight\", dpi=300)"
   ]
  },
  {
   "cell_type": "code",
   "execution_count": null,
   "id": "vocational-admission",
   "metadata": {},
   "outputs": [],
   "source": []
  }
 ],
 "metadata": {
  "kernelspec": {
   "display_name": "Python 3 (ipykernel)",
   "language": "python",
   "name": "python3"
  },
  "language_info": {
   "codemirror_mode": {
    "name": "ipython",
    "version": 3
   },
   "file_extension": ".py",
   "mimetype": "text/x-python",
   "name": "python",
   "nbconvert_exporter": "python",
   "pygments_lexer": "ipython3",
   "version": "3.8.10"
  }
 },
 "nbformat": 4,
 "nbformat_minor": 5
}
